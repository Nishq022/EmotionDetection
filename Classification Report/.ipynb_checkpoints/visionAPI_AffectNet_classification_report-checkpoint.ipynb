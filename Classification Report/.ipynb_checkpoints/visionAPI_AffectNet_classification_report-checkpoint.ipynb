{
 "cells": [
  {
   "cell_type": "code",
   "execution_count": 1,
   "metadata": {},
   "outputs": [
    {
     "name": "stdout",
     "output_type": "stream",
     "text": [
      "              precision    recall  f1-score   support\n",
      "\n",
      "       Happy       0.59      0.98      0.74       392\n",
      "         Sad       0.74      0.38      0.51       143\n",
      "       Angry       0.89      0.11      0.20       144\n",
      "    Surprise       0.83      0.44      0.58       144\n",
      "\n",
      "    accuracy                           0.63       823\n",
      "   macro avg       0.76      0.48      0.51       823\n",
      "weighted avg       0.71      0.63      0.58       823\n",
      "\n"
     ]
    }
   ],
   "source": [
    "from sklearn.metrics import classification_report\n",
    "import pandas as pd\n",
    "df_csv = pd.read_csv('visionAPI_raw_test_data_output.csv')\n",
    "y_true = []\n",
    "for label in df_csv['Label']:\n",
    "    if label == 'Happy':\n",
    "        y_true.append(0)\n",
    "    elif label == 'Sad':\n",
    "        y_true.append(1)\n",
    "    elif label == 'Angry':\n",
    "        y_true.append(2)\n",
    "    elif label == 'Surprise':\n",
    "        y_true.append(3)\n",
    "\n",
    "y_pred = []\n",
    "for row in df_csv['Output_label']:\n",
    "    if row == 1.0:\n",
    "        y_pred.append(0)\n",
    "    elif row == 3.0:\n",
    "        y_pred.append(1)\n",
    "    elif row == 2.0:\n",
    "        y_pred.append(2)\n",
    "    elif row == 4.0:\n",
    "        y_pred.append(3)\n",
    "        \n",
    "target_names = [ 'Happy', 'Sad', 'Angry', 'Surprise']\n",
    "print(classification_report(y_true, y_pred, target_names=target_names))"
   ]
  },
  {
   "cell_type": "code",
   "execution_count": null,
   "metadata": {
    "collapsed": true
   },
   "outputs": [],
   "source": []
  }
 ],
 "metadata": {
  "kernelspec": {
   "display_name": "Python 3",
   "language": "python",
   "name": "python3"
  },
  "language_info": {
   "codemirror_mode": {
    "name": "ipython",
    "version": 3
   },
   "file_extension": ".py",
   "mimetype": "text/x-python",
   "name": "python",
   "nbconvert_exporter": "python",
   "pygments_lexer": "ipython3",
   "version": "3.7.3"
  }
 },
 "nbformat": 4,
 "nbformat_minor": 2
}

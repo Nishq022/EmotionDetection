{
 "cells": [
  {
   "cell_type": "code",
   "execution_count": 2,
   "metadata": {},
   "outputs": [
    {
     "name": "stdout",
     "output_type": "stream",
     "text": [
      "              precision    recall  f1-score   support\n",
      "\n",
      "       Happy       0.85      0.94      0.89       200\n",
      "     Neutral       0.77      0.18      0.30       200\n",
      "       Other       0.00      0.00      0.00         0\n",
      "\n",
      "    accuracy                           0.56       400\n",
      "   macro avg       0.54      0.38      0.40       400\n",
      "weighted avg       0.81      0.56      0.60       400\n",
      "\n"
     ]
    }
   ],
   "source": [
    "from sklearn.metrics import classification_report\n",
    "import pandas as pd\n",
    "df_csv = pd.read_csv('AffectNet_FEI_raw_test_data_output.csv')\n",
    "y_true = []\n",
    "for label in df_csv['Label']:\n",
    "    if label == 'Happy':\n",
    "        y_true.append(0)\n",
    "    elif label == 'Neutral':\n",
    "        y_true.append(1)\n",
    "\n",
    "y_pred = []\n",
    "for row in df_csv['Output_label']:\n",
    "    if row == 2.0:\n",
    "        y_pred.append(0)\n",
    "    elif row == 11.0:\n",
    "        y_pred.append(1)\n",
    "    else:\n",
    "        y_pred.append(4)\n",
    "        \n",
    "target_names = [ 'Happy', 'Neutral', 'Other']\n",
    "print(classification_report(y_true, y_pred, target_names=target_names))"
   ]
  },
  {
   "cell_type": "code",
   "execution_count": null,
   "metadata": {
    "collapsed": true
   },
   "outputs": [],
   "source": []
  }
 ],
 "metadata": {
  "kernelspec": {
   "display_name": "Python 3",
   "language": "python",
   "name": "python3"
  },
  "language_info": {
   "codemirror_mode": {
    "name": "ipython",
    "version": 3
   },
   "file_extension": ".py",
   "mimetype": "text/x-python",
   "name": "python",
   "nbconvert_exporter": "python",
   "pygments_lexer": "ipython3",
   "version": "3.7.3"
  }
 },
 "nbformat": 4,
 "nbformat_minor": 2
}

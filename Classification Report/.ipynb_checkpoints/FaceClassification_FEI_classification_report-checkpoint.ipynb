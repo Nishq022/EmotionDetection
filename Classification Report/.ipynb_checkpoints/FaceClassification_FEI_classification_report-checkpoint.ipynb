{
 "cells": [
  {
   "cell_type": "code",
   "execution_count": 5,
   "metadata": {},
   "outputs": [
    {
     "name": "stdout",
     "output_type": "stream",
     "text": [
      "              precision    recall  f1-score   support\n",
      "\n",
      "       Happy       0.96      0.93      0.94       200\n",
      "     Neutral       0.96      0.92      0.94       200\n",
      "       Other       0.00      0.00      0.00         0\n",
      "\n",
      "    accuracy                           0.92       400\n",
      "   macro avg       0.64      0.62      0.63       400\n",
      "weighted avg       0.96      0.92      0.94       400\n",
      "\n"
     ]
    }
   ],
   "source": [
    "from sklearn.metrics import classification_report\n",
    "import pandas as pd\n",
    "df_csv = pd.read_csv('FaceClassification_FEI_raw .csv')\n",
    "y_true = []\n",
    "for label in df_csv['Label']:\n",
    "    if label == 'Happy':\n",
    "        y_true.append(0)\n",
    "    elif label == 'Neutral':\n",
    "        y_true.append(1)\n",
    "        \n",
    "y_pred = []\n",
    "for row in df_csv['Output_label']:\n",
    "    if row == 4.0:\n",
    "        \n",
    "        y_pred.append(0)\n",
    "    elif row == 7.0:\n",
    "        y_pred.append(1)\n",
    "   \n",
    "    else:\n",
    "        y_pred.append(4)\n",
    "        \n",
    "target_names = [ 'Happy', 'Neutral', 'Other']\n",
    "print(classification_report(y_true, y_pred, target_names=target_names))"
   ]
  },
  {
   "cell_type": "code",
   "execution_count": 2,
   "metadata": {
    "collapsed": true
   },
   "outputs": [],
   "source": [
    "\n"
   ]
  },
  {
   "cell_type": "code",
   "execution_count": 4,
   "metadata": {},
   "outputs": [
    {
     "name": "stdout",
     "output_type": "stream",
     "text": [
      "              precision    recall  f1-score   support\n",
      "\n",
      "       Happy       0.96      0.93      0.94       200\n",
      "     Neutral       0.96      0.92      0.94       200\n",
      "       Other       0.00      0.00      0.00         0\n",
      "\n",
      "    accuracy                           0.92       400\n",
      "   macro avg       0.64      0.62      0.63       400\n",
      "weighted avg       0.96      0.92      0.94       400\n",
      "\n"
     ]
    },
    {
     "name": "stderr",
     "output_type": "stream",
     "text": [
      "/usr/local/lib/python3.6/dist-packages/sklearn/metrics/classification.py:1439: UndefinedMetricWarning: Recall and F-score are ill-defined and being set to 0.0 in labels with no true samples.\n",
      "  'recall', 'true', average, warn_for)\n"
     ]
    }
   ],
   "source": []
  },
  {
   "cell_type": "code",
   "execution_count": null,
   "metadata": {
    "collapsed": true
   },
   "outputs": [],
   "source": []
  }
 ],
 "metadata": {
  "kernelspec": {
   "display_name": "Python 3",
   "language": "python",
   "name": "python3"
  },
  "language_info": {
   "codemirror_mode": {
    "name": "ipython",
    "version": 3
   },
   "file_extension": ".py",
   "mimetype": "text/x-python",
   "name": "python",
   "nbconvert_exporter": "python",
   "pygments_lexer": "ipython3",
   "version": "3.7.3"
  }
 },
 "nbformat": 4,
 "nbformat_minor": 2
}

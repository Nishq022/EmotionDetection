{
 "cells": [
  {
   "cell_type": "code",
   "execution_count": 3,
   "metadata": {},
   "outputs": [
    {
     "name": "stdout",
     "output_type": "stream",
     "text": [
      "              precision    recall  f1-score   support\n",
      "\n",
      "       Happy       0.96      0.81      0.88       200\n",
      "     Neutral       0.90      0.84      0.87       200\n",
      "       Other       0.00      0.00      0.00         0\n",
      "\n",
      "    accuracy                           0.82       400\n",
      "   macro avg       0.62      0.55      0.58       400\n",
      "weighted avg       0.93      0.82      0.87       400\n",
      "\n"
     ]
    },
    {
     "name": "stderr",
     "output_type": "stream",
     "text": [
      "C:\\Users\\nishq\\Anaconda3\\envs\\tfdeeplearning\\lib\\site-packages\\sklearn\\metrics\\classification.py:1439: UndefinedMetricWarning: Recall and F-score are ill-defined and being set to 0.0 in labels with no true samples.\n",
      "  'recall', 'true', average, warn_for)\n"
     ]
    }
   ],
   "source": [
    "from sklearn.metrics import classification_report\n",
    "import pandas as pd\n",
    "df_csv = pd.read_csv('../Test_results/FEI_frontal/ParallelDots_raw_data_FEI.csv')\n",
    "y_true = []\n",
    "for label in df_csv['Label']:\n",
    "    if label == 'Happy':\n",
    "        y_true.append(0)\n",
    "    elif label == 'Neutral':\n",
    "        y_true.append(1)\n",
    "\n",
    "y_pred = []\n",
    "for row in df_csv['Output_label']:\n",
    "    if row == 2.0:\n",
    "        \n",
    "        y_pred.append(0)\n",
    "    elif row == 1.0:\n",
    "        y_pred.append(1)\n",
    "    else:\n",
    "        y_pred.append(4)\n",
    "        \n",
    "target_names = [ 'Happy', 'Neutral', 'Other']\n",
    "print(classification_report(y_true, y_pred, target_names=target_names))"
   ]
  },
  {
   "cell_type": "code",
   "execution_count": null,
   "metadata": {
    "collapsed": true
   },
   "outputs": [],
   "source": []
  }
 ],
 "metadata": {
  "kernelspec": {
   "display_name": "Python 3",
   "language": "python",
   "name": "python3"
  },
  "language_info": {
   "codemirror_mode": {
    "name": "ipython",
    "version": 3
   },
   "file_extension": ".py",
   "mimetype": "text/x-python",
   "name": "python",
   "nbconvert_exporter": "python",
   "pygments_lexer": "ipython3",
   "version": "3.7.3"
  }
 },
 "nbformat": 4,
 "nbformat_minor": 2
}

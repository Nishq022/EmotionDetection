{
 "cells": [
  {
   "cell_type": "code",
   "execution_count": 2,
   "metadata": {},
   "outputs": [
    {
     "name": "stdout",
     "output_type": "stream",
     "text": [
      "              precision    recall  f1-score   support\n",
      "\n",
      "       Happy       0.91      0.53      0.67       396\n",
      "         Sad       0.57      0.24      0.33       144\n",
      "       Angry       0.59      0.28      0.38       144\n",
      "    Surprise       0.75      0.21      0.33       144\n",
      "       Other       0.00      0.00      0.00         0\n",
      "\n",
      "    accuracy                           0.38       828\n",
      "   macro avg       0.56      0.25      0.34       828\n",
      "weighted avg       0.77      0.38      0.50       828\n",
      "\n"
     ]
    },
    {
     "name": "stderr",
     "output_type": "stream",
     "text": [
      "C:\\Users\\nishq\\Anaconda3\\envs\\tfdeeplearning\\lib\\site-packages\\sklearn\\metrics\\classification.py:1439: UndefinedMetricWarning: Recall and F-score are ill-defined and being set to 0.0 in labels with no true samples.\n",
      "  'recall', 'true', average, warn_for)\n"
     ]
    }
   ],
   "source": [
    "from sklearn.metrics import classification_report\n",
    "import pandas as pd\n",
    "df_csv = pd.read_csv('../Test_results/AffectNet_subset/ParallelDots_raw_data_AffectNet.csv')\n",
    "y_true = []\n",
    "for label in df_csv['Label']:\n",
    "    if label == 'Happy':\n",
    "        y_true.append(0)\n",
    "    elif label == 'Sad':\n",
    "        y_true.append(1)\n",
    "    elif label == 'Angry':\n",
    "        y_true.append(2)\n",
    "    elif label == 'Surprise':\n",
    "        y_true.append(3)\n",
    "\n",
    "y_pred = []\n",
    "for row in df_csv['Output_label']:\n",
    "    if row == 2.0:\n",
    "        \n",
    "        y_pred.append(0)\n",
    "    elif row == 3.0:\n",
    "        y_pred.append(1)\n",
    "    elif row == 7.0:\n",
    "        y_pred.append(2)\n",
    "    elif row == 4.0:\n",
    "        y_pred.append(3)\n",
    "    else:\n",
    "        y_pred.append(4)\n",
    "        \n",
    "target_names = [ 'Happy', 'Sad', 'Angry', 'Surprise', 'Other']\n",
    "print(classification_report(y_true, y_pred, target_names=target_names))"
   ]
  },
  {
   "cell_type": "code",
   "execution_count": null,
   "metadata": {
    "collapsed": true
   },
   "outputs": [],
   "source": []
  }
 ],
 "metadata": {
  "kernelspec": {
   "display_name": "Python 3",
   "language": "python",
   "name": "python3"
  },
  "language_info": {
   "codemirror_mode": {
    "name": "ipython",
    "version": 3
   },
   "file_extension": ".py",
   "mimetype": "text/x-python",
   "name": "python",
   "nbconvert_exporter": "python",
   "pygments_lexer": "ipython3",
   "version": "3.7.3"
  }
 },
 "nbformat": 4,
 "nbformat_minor": 2
}
